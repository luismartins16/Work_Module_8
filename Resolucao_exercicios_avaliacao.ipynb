{
 "cells": [
  {
   "cell_type": "markdown",
   "metadata": {},
   "source": [
    "### Trabalho Módulo 8\n",
    "\n",
    "Autor: Luís Miguel Marques Martins, ae6336"
   ]
  },
  {
   "cell_type": "markdown",
   "metadata": {},
   "source": [
    "### Exercício\n",
    "\n",
    "Dado uma entrada do genbank (como a do exemplo anterior), escreva um pequeno programa que, dado um registo, dá a respetiva definição.\n",
    "\n",
    "Exemplo:\n",
    "\n",
    "dados o seguinte registo em texto (abreviado):\n",
    "```\n",
    "LOCUS       HIVI5C                   231 bp    DNA     linear   VRL 24-MAR-1997\n",
    "DEFINITION  Human immunodeficiency virus type 1 (isolate genotype C, I5) gag\n",
    "            gene, partial cds.\n",
    "ACCESSION   L42022\n",
    "VERSION     L42022.1\n",
    "KEYWORDS    gag gene; p24 protein.\n",
    "SOURCE      Human immunodeficiency virus 1 (HIV-1)\n",
    "  ORGANISM  Human immunodeficiency virus 1\n",
    "            Viruses; Riboviria; Pararnavirae; Artverviricota; Revtraviricetes;\n",
    "            Ortervirales; Retroviridae; Orthoretrovirinae; Lentivirus.\n",
    "REFERENCE   1  (bases 1 to 231)\n",
    "  AUTHORS   Voevodin,A., Crandall,K.A., Seth,P. and al Mufti,S.\n",
    "  TITLE     HIV type 1 subtypes B and C from new regions of India and Indian\n",
    "            and Ethiopian expatriates in Kuwait\n",
    "  JOURNAL   AIDS Res. Hum. Retroviruses 12 (7), 641-643 (1996)\n",
    "   PUBMED   8743090\n",
    "(...)\n",
    "```\n",
    "\n",
    "O resultado deveria ser:\n",
    "```\n",
    "Human immunodeficiency virus type 1 (isolate genotype C, I5) gag gene, partial cds.\n",
    "```"
   ]
  },
  {
   "cell_type": "markdown",
   "metadata": {},
   "source": [
    "### Resolução"
   ]
  },
  {
   "cell_type": "code",
   "execution_count": 75,
   "metadata": {},
   "outputs": [
    {
     "name": "stdout",
     "output_type": "stream",
     "text": [
      "Resultado:\n",
      "\n",
      "Human immunodeficiency virus type 1 (isolate genotype C, I5) gag            gene, partial cds.\n"
     ]
    }
   ],
   "source": [
    "import re\n",
    "\n",
    "fonte = open(\"L42022.1.gb\",'r')\n",
    "locus = fonte.read()\n",
    "fonte.close()\n",
    "\n",
    "existe = re.findall(r'DEFINITION\\s+', locus)\n",
    "\n",
    "if existe:\n",
    "    m = re.findall(r'DEFINITION\\s+([^\\.]+)', locus)\n",
    "    m[0] = ''.join(m[0].splitlines())\n",
    "    m[0] = m[0] + \".\"\n",
    "    \n",
    "    print(\"Resultado:\\n\")\n",
    "    print(m[0])\n",
    "\n",
    "else:\n",
    "    print( \"Não foi encontrada uma definição\" )"
   ]
  },
  {
   "cell_type": "markdown",
   "metadata": {},
   "source": [
    "### Exercício 2\n",
    "\n",
    "Dado uma entrada do genbank (como a do exemplo anterior), escreva um pequeno programa que, dado um registo, dá a sequência que aparece no final.\n",
    "\n",
    "A sequência deve ser apresentada numa única linha, sem espaços e sem outras eltas, a não ser a, c, t e g.\n",
    "\n",
    "Exemplo:\n",
    "\n",
    "dados o seguinte registo em texto (abreviado):\n",
    "```\n",
    "LOCUS       HIVI5C                   231 bp    DNA     linear   VRL 24-MAR-1997\n",
    "DEFINITION  Human immunodeficiency virus type 1 (isolate genotype C, I5) gag\n",
    "            gene, partial cds.\n",
    "ACCESSION   L42022\n",
    "VERSION     L42022.1\n",
    "KEYWORDS    gag gene; p24 protein.\n",
    "SOURCE      Human immunodeficiency virus 1 (HIV-1)\n",
    "  ORGANISM  Human immunodeficiency virus 1\n",
    "            Viruses; Riboviria; Pararnavirae; Artverviricota; Revtraviricetes;\n",
    "            Ortervirales; Retroviridae; Orthoretrovirinae; Lentivirus.\n",
    "REFERENCE   1  (bases 1 to 231)\n",
    "  AUTHORS   Voevodin,A., Crandall,K.A., Seth,P. and al Mufti,S.\n",
    "  TITLE     HIV type 1 subtypes B and C from new regions of India and Indian\n",
    "            and Ethiopian expatriates in Kuwait\n",
    "  JOURNAL   AIDS Res. Hum. Retroviruses 12 (7), 641-643 (1996)\n",
    "   PUBMED   8743090\n",
    "(...)\n",
    "                     EIYKRWIILGLNKIVRMYSPVSILDIKQGPKEP\"\n",
    "ORIGIN      \n",
    "        1 catccagtac atgcagggcc tattgcacca ggccaaatga gagaaccaag gggaagtgac\n",
    "       61 atagcaggaa ctacaagtac ccttcaggaa caagtagcat ggatgacagg taacccacct\n",
    "      121 gttccagtgg gagaaatcta taaaagatgg ataattctgg gattaaataa aatagtaaga\n",
    "      181 atgtatagcc ctgtcagcat tttggacata aaacaagggc caaaggaacc c\n",
    "//\n",
    "```\n",
    "\n",
    "O resultado deveria ser:\n",
    "```\n",
    "catccagtacatgcagggcctattgcaccaggccaaatgagagaaccaaggggaagtgacatagcaggaactacaagtacccttcaggaacaagtagcatggatgacaggtaacccacctgttccagtgggagaaatctataaaagatggataattctgggattaaataaaatagtaagaatgtatagccctgtcagcattttggacataaaacaagggccaaaggaaccc\n",
    "```"
   ]
  },
  {
   "cell_type": "markdown",
   "metadata": {},
   "source": [
    "### Resolução"
   ]
  },
  {
   "cell_type": "code",
   "execution_count": 74,
   "metadata": {},
   "outputs": [
    {
     "name": "stdout",
     "output_type": "stream",
     "text": [
      "Resultado:\n",
      "\n",
      "catccagtacatgcagggcctattgcaccaggccaaatgagagaaccaaggggaagtgacatagcaggaactacaagtacccttcaggaacaagtagcatggatgacaggtaacccacctgttccagtgggagaaatctataaaagatggataattctgggattaaataaaatagtaagaatgtatagccctgtcagcattttggacataaaacaagggccaaaggaaccc\n"
     ]
    }
   ],
   "source": [
    "import re\n",
    "\n",
    "fonte = open(\"L42022.1.gb\",'r')\n",
    "#fonte = open(\"L42023.1.gb\",'r')\n",
    "locus = fonte.read()\n",
    "fonte.close()\n",
    "\n",
    "re.search(\"VERSION\\s+[\\w.]+\", locus)\n",
    "re.search(\"^VERSION\\s+[\\w.]+\", locus, re.MULTILINE)\n",
    "existe = re.findall(\"^\\s+\\d+ [actg ]+\", locus, re.MULTILINE)\n",
    "\n",
    "sequencia = []\n",
    "for item in existe:\n",
    "    \n",
    "    miniseq1 = re.sub(r\"\\s+\", \"\", item)\n",
    "    miniseq = re.sub(r\"\\d+\", \"\", miniseq1)\n",
    "    \n",
    "    sequencia.append(miniseq)\n",
    "    \n",
    "sequencia=''.join(sequencia)\n",
    "\n",
    "print(\"Resultado:\\n\")  \n",
    "print(sequencia)\n"
   ]
  }
 ],
 "metadata": {
  "kernelspec": {
   "display_name": "Python 3.9.5 64-bit",
   "language": "python",
   "name": "python3"
  },
  "language_info": {
   "codemirror_mode": {
    "name": "ipython",
    "version": 3
   },
   "file_extension": ".py",
   "mimetype": "text/x-python",
   "name": "python",
   "nbconvert_exporter": "python",
   "pygments_lexer": "ipython3",
   "version": "3.9.5"
  },
  "orig_nbformat": 4,
  "vscode": {
   "interpreter": {
    "hash": "60774d4c6d55604bdf27fec9078ea43a9e1e2905bcf672a14f0fc7c824d85ff7"
   }
  }
 },
 "nbformat": 4,
 "nbformat_minor": 2
}
